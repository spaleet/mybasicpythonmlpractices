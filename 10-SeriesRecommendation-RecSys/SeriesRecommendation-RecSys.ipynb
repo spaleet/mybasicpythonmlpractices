{
 "cells": [
  {
   "cell_type": "markdown",
   "id": "815f05ce",
   "metadata": {},
   "source": [
    "### Imports\n"
   ]
  },
  {
   "cell_type": "code",
   "execution_count": 1,
   "id": "9633df56",
   "metadata": {},
   "outputs": [],
   "source": [
    "import pandas as pd\n",
    "from sklearn.feature_extraction.text import CountVectorizer\n",
    "from sklearn.metrics.pairwise import cosine_similarity"
   ]
  },
  {
   "cell_type": "markdown",
   "id": "8244788b",
   "metadata": {},
   "source": [
    "### Reading the Data"
   ]
  },
  {
   "cell_type": "code",
   "execution_count": 2,
   "id": "25f2cc86",
   "metadata": {},
   "outputs": [
    {
     "data": {
      "text/html": [
       "<div>\n",
       "<style scoped>\n",
       "    .dataframe tbody tr th:only-of-type {\n",
       "        vertical-align: middle;\n",
       "    }\n",
       "\n",
       "    .dataframe tbody tr th {\n",
       "        vertical-align: top;\n",
       "    }\n",
       "\n",
       "    .dataframe thead th {\n",
       "        text-align: right;\n",
       "    }\n",
       "</style>\n",
       "<table border=\"1\" class=\"dataframe\">\n",
       "  <thead>\n",
       "    <tr style=\"text-align: right;\">\n",
       "      <th></th>\n",
       "      <th>Title</th>\n",
       "      <th>Production</th>\n",
       "      <th>Certificate</th>\n",
       "      <th>Genre(s)</th>\n",
       "      <th>Rating</th>\n",
       "    </tr>\n",
       "  </thead>\n",
       "  <tbody>\n",
       "    <tr>\n",
       "      <th>0</th>\n",
       "      <td>Game of Thrones</td>\n",
       "      <td>(2011–2019)</td>\n",
       "      <td>A</td>\n",
       "      <td>Action, Adventure, Drama</td>\n",
       "      <td>9.3</td>\n",
       "    </tr>\n",
       "    <tr>\n",
       "      <th>1</th>\n",
       "      <td>Breaking Bad</td>\n",
       "      <td>(2008–2013)</td>\n",
       "      <td>18</td>\n",
       "      <td>Crime, Drama, Thriller</td>\n",
       "      <td>9.5</td>\n",
       "    </tr>\n",
       "    <tr>\n",
       "      <th>2</th>\n",
       "      <td>The Walking Dead</td>\n",
       "      <td>(2010– )</td>\n",
       "      <td>18+</td>\n",
       "      <td>Drama, Horror, Thriller</td>\n",
       "      <td>8.2</td>\n",
       "    </tr>\n",
       "    <tr>\n",
       "      <th>3</th>\n",
       "      <td>Friends</td>\n",
       "      <td>(1994–2004)</td>\n",
       "      <td>13+</td>\n",
       "      <td>Comedy, Romance</td>\n",
       "      <td>8.9</td>\n",
       "    </tr>\n",
       "    <tr>\n",
       "      <th>4</th>\n",
       "      <td>Stranger Things</td>\n",
       "      <td>(2016– )</td>\n",
       "      <td>15</td>\n",
       "      <td>Drama, Fantasy, Horror</td>\n",
       "      <td>8.7</td>\n",
       "    </tr>\n",
       "    <tr>\n",
       "      <th>5</th>\n",
       "      <td>Sherlock</td>\n",
       "      <td>(2010–2017)</td>\n",
       "      <td>UA</td>\n",
       "      <td>Crime, Drama, Mystery</td>\n",
       "      <td>9.1</td>\n",
       "    </tr>\n",
       "    <tr>\n",
       "      <th>6</th>\n",
       "      <td>The Big Bang Theory</td>\n",
       "      <td>(2007–2019)</td>\n",
       "      <td>U</td>\n",
       "      <td>Comedy, Romance</td>\n",
       "      <td>8.1</td>\n",
       "    </tr>\n",
       "    <tr>\n",
       "      <th>7</th>\n",
       "      <td>Dexter</td>\n",
       "      <td>(2006–2021)</td>\n",
       "      <td>A</td>\n",
       "      <td>Crime, Drama, Mystery</td>\n",
       "      <td>8.6</td>\n",
       "    </tr>\n",
       "    <tr>\n",
       "      <th>8</th>\n",
       "      <td>How I Met Your Mother</td>\n",
       "      <td>(2005–2014)</td>\n",
       "      <td>15+</td>\n",
       "      <td>Comedy, Romance</td>\n",
       "      <td>8.3</td>\n",
       "    </tr>\n",
       "  </tbody>\n",
       "</table>\n",
       "</div>"
      ],
      "text/plain": [
       "                   Title   Production Certificate                  Genre(s)  \\\n",
       "0        Game of Thrones  (2011–2019)           A  Action, Adventure, Drama   \n",
       "1           Breaking Bad  (2008–2013)          18    Crime, Drama, Thriller   \n",
       "2       The Walking Dead     (2010– )         18+   Drama, Horror, Thriller   \n",
       "3                Friends  (1994–2004)         13+           Comedy, Romance   \n",
       "4        Stranger Things     (2016– )          15    Drama, Fantasy, Horror   \n",
       "5               Sherlock  (2010–2017)          UA     Crime, Drama, Mystery   \n",
       "6    The Big Bang Theory  (2007–2019)           U           Comedy, Romance   \n",
       "7                 Dexter  (2006–2021)           A     Crime, Drama, Mystery   \n",
       "8  How I Met Your Mother  (2005–2014)         15+           Comedy, Romance   \n",
       "\n",
       "   Rating  \n",
       "0     9.3  \n",
       "1     9.5  \n",
       "2     8.2  \n",
       "3     8.9  \n",
       "4     8.7  \n",
       "5     9.1  \n",
       "6     8.1  \n",
       "7     8.6  \n",
       "8     8.3  "
      ]
     },
     "execution_count": 2,
     "metadata": {},
     "output_type": "execute_result"
    }
   ],
   "source": [
    "df = pd.read_csv(\"data.csv\")\n",
    "\n",
    "df.head(9)"
   ]
  },
  {
   "cell_type": "markdown",
   "id": "19e7b34d",
   "metadata": {},
   "source": [
    "### Creating the genre matrix"
   ]
  },
  {
   "cell_type": "code",
   "execution_count": 3,
   "id": "380c30c5",
   "metadata": {},
   "outputs": [
    {
     "name": "stderr",
     "output_type": "stream",
     "text": [
      "c:\\ProgramData\\anaconda3\\Lib\\site-packages\\sklearn\\feature_extraction\\text.py:517: UserWarning: The parameter 'token_pattern' will not be used since 'tokenizer' is not None'\n",
      "  warnings.warn(\n"
     ]
    }
   ],
   "source": [
    "# count matrix for genres\n",
    "# example:\n",
    "#          Comedy  Crime  Drama  Romance  Thriller\n",
    "# Breaking Bad   0      1      1        0         1\n",
    "# Friends        1      0      0        1         0\n",
    "count_vectorizer = CountVectorizer(tokenizer=lambda x: x.split(', '))\n",
    "\n",
    "# [[0 1 1 0 1]  <- Breaking Bad\n",
    "# [1 0 0 1 0]] <- Friends\n",
    "genre_matrix = count_vectorizer.fit_transform(df['Genre(s)'])"
   ]
  },
  {
   "cell_type": "markdown",
   "id": "b5cdb31d",
   "metadata": {},
   "source": [
    "### Cosine Similarity"
   ]
  },
  {
   "cell_type": "code",
   "execution_count": 4,
   "id": "5e89114c",
   "metadata": {},
   "outputs": [],
   "source": [
    "# cosine similarity between all TV series based on genres, a value between 0 and 1\n",
    "cosine_sim = cosine_similarity(genre_matrix, genre_matrix)"
   ]
  },
  {
   "cell_type": "markdown",
   "id": "0cfba3eb",
   "metadata": {},
   "source": [
    "### Recommend function"
   ]
  },
  {
   "cell_type": "code",
   "execution_count": 5,
   "id": "60b85f28",
   "metadata": {},
   "outputs": [],
   "source": [
    "def recommend_on_genre(title, num_recommendations=5):\n",
    "    \n",
    "    # find the index of the input title\n",
    "    idx = df[df['Title'] == title].index[0]\n",
    "    \n",
    "    # get pairwise similarity scores\n",
    "    sim_scores = list(enumerate(cosine_sim[idx]))\n",
    "    \n",
    "    # sort by similarity score\n",
    "    sim_scores = sorted(sim_scores, key=lambda x: x[1], reverse=True)\n",
    "    \n",
    "    # get top N most similar (skip the first one as it's the same show)\n",
    "    sim_scores = sim_scores[1:num_recommendations+1]\n",
    "    \n",
    "    # get series indices\n",
    "    tv_indices = [i[0] for i in sim_scores]\n",
    "    \n",
    "    return df['Title'].iloc[tv_indices].tolist()"
   ]
  },
  {
   "cell_type": "markdown",
   "id": "87202cfd",
   "metadata": {},
   "source": [
    "### Testing it"
   ]
  },
  {
   "cell_type": "code",
   "execution_count": 6,
   "id": "2277a161",
   "metadata": {},
   "outputs": [
    {
     "name": "stdout",
     "output_type": "stream",
     "text": [
      "\n",
      "Recommendations for 'It's Always Sunny in Philadelphia':\n",
      "['Arrested Development', 'Seinfeld', 'Community', 'Parks and Recreation', 'New Girl']\n",
      "\n",
      "Recommendations for 'Friends':\n",
      "['The Big Bang Theory', 'How I Met Your Mother', 'Two and a Half Men', \"That '70s Show\", 'Will & Grace']\n"
     ]
    }
   ],
   "source": [
    "print(\"\\nRecommendations for 'It's Always Sunny in Philadelphia':\")\n",
    "print(recommend_on_genre(\"It's Always Sunny in Philadelphia\"))\n",
    "\n",
    "print(\"\\nRecommendations for 'Friends':\")\n",
    "print(recommend_on_genre('Friends'))"
   ]
  }
 ],
 "metadata": {
  "kernelspec": {
   "display_name": "base",
   "language": "python",
   "name": "python3"
  },
  "language_info": {
   "codemirror_mode": {
    "name": "ipython",
    "version": 3
   },
   "file_extension": ".py",
   "mimetype": "text/x-python",
   "name": "python",
   "nbconvert_exporter": "python",
   "pygments_lexer": "ipython3",
   "version": "3.13.5"
  }
 },
 "nbformat": 4,
 "nbformat_minor": 5
}
