{
 "cells": [
  {
   "cell_type": "markdown",
   "id": "7918f5b7-499d-4aba-8498-8e7eeca70f6b",
   "metadata": {},
   "source": [
    "# Predicting Player Value based on basic stats"
   ]
  },
  {
   "cell_type": "markdown",
   "id": "a1bee35e-3a58-44f2-90f1-5843ac43669c",
   "metadata": {},
   "source": [
    "## Usual Imports"
   ]
  },
  {
   "cell_type": "code",
   "execution_count": 1,
   "id": "9287261c-5192-4d77-9a96-2d9f8d7fd940",
   "metadata": {},
   "outputs": [],
   "source": [
    "import pandas as pd\n",
    "import numpy as np\n",
    "import matplotlib.pyplot as plt"
   ]
  },
  {
   "cell_type": "markdown",
   "id": "9da2d198-754d-422c-b1d3-1474a668fbac",
   "metadata": {},
   "source": [
    "### Reading the Data\n",
    "\n",
    "And I'm only taking the necessary columns"
   ]
  },
  {
   "cell_type": "code",
   "execution_count": 2,
   "id": "56f37aed-9920-43d3-bd41-ab10be1b82bf",
   "metadata": {},
   "outputs": [
    {
     "data": {
      "text/html": [
       "<div>\n",
       "<style scoped>\n",
       "    .dataframe tbody tr th:only-of-type {\n",
       "        vertical-align: middle;\n",
       "    }\n",
       "\n",
       "    .dataframe tbody tr th {\n",
       "        vertical-align: top;\n",
       "    }\n",
       "\n",
       "    .dataframe thead th {\n",
       "        text-align: right;\n",
       "    }\n",
       "</style>\n",
       "<table border=\"1\" class=\"dataframe\">\n",
       "  <thead>\n",
       "    <tr style=\"text-align: right;\">\n",
       "      <th></th>\n",
       "      <th>Name</th>\n",
       "      <th>Market Value</th>\n",
       "      <th>Age</th>\n",
       "      <th>Goals</th>\n",
       "      <th>Assists</th>\n",
       "    </tr>\n",
       "  </thead>\n",
       "  <tbody>\n",
       "    <tr>\n",
       "      <th>0</th>\n",
       "      <td>Erling Haaland</td>\n",
       "      <td>200000000</td>\n",
       "      <td>24</td>\n",
       "      <td>14</td>\n",
       "      <td>0</td>\n",
       "    </tr>\n",
       "    <tr>\n",
       "      <th>1</th>\n",
       "      <td>Vinicius Junior</td>\n",
       "      <td>200000000</td>\n",
       "      <td>24</td>\n",
       "      <td>5</td>\n",
       "      <td>7</td>\n",
       "    </tr>\n",
       "    <tr>\n",
       "      <th>2</th>\n",
       "      <td>Jude Bellingham</td>\n",
       "      <td>180000000</td>\n",
       "      <td>21</td>\n",
       "      <td>1</td>\n",
       "      <td>2</td>\n",
       "    </tr>\n",
       "    <tr>\n",
       "      <th>3</th>\n",
       "      <td>Kylian Mbappé</td>\n",
       "      <td>180000000</td>\n",
       "      <td>25</td>\n",
       "      <td>8</td>\n",
       "      <td>1</td>\n",
       "    </tr>\n",
       "    <tr>\n",
       "      <th>4</th>\n",
       "      <td>Lamine Yamal</td>\n",
       "      <td>150000000</td>\n",
       "      <td>17</td>\n",
       "      <td>5</td>\n",
       "      <td>6</td>\n",
       "    </tr>\n",
       "    <tr>\n",
       "      <th>5</th>\n",
       "      <td>Phil Foden</td>\n",
       "      <td>150000000</td>\n",
       "      <td>24</td>\n",
       "      <td>1</td>\n",
       "      <td>2</td>\n",
       "    </tr>\n",
       "    <tr>\n",
       "      <th>6</th>\n",
       "      <td>Bukayo Saka</td>\n",
       "      <td>140000000</td>\n",
       "      <td>23</td>\n",
       "      <td>3</td>\n",
       "      <td>7</td>\n",
       "    </tr>\n",
       "    <tr>\n",
       "      <th>7</th>\n",
       "      <td>Florian Wirtz</td>\n",
       "      <td>130000000</td>\n",
       "      <td>21</td>\n",
       "      <td>7</td>\n",
       "      <td>3</td>\n",
       "    </tr>\n",
       "    <tr>\n",
       "      <th>8</th>\n",
       "      <td>Jamal Musiala</td>\n",
       "      <td>130000000</td>\n",
       "      <td>21</td>\n",
       "      <td>4</td>\n",
       "      <td>6</td>\n",
       "    </tr>\n",
       "  </tbody>\n",
       "</table>\n",
       "</div>"
      ],
      "text/plain": [
       "              Name  Market Value  Age  Goals  Assists\n",
       "0   Erling Haaland     200000000   24     14        0\n",
       "1  Vinicius Junior     200000000   24      5        7\n",
       "2  Jude Bellingham     180000000   21      1        2\n",
       "3    Kylian Mbappé     180000000   25      8        1\n",
       "4     Lamine Yamal     150000000   17      5        6\n",
       "5       Phil Foden     150000000   24      1        2\n",
       "6      Bukayo Saka     140000000   23      3        7\n",
       "7    Florian Wirtz     130000000   21      7        3\n",
       "8    Jamal Musiala     130000000   21      4        6"
      ]
     },
     "execution_count": 2,
     "metadata": {},
     "output_type": "execute_result"
    }
   ],
   "source": [
    "df = pd.read_csv(\"playerdata.csv\")\n",
    "df = df[['Name', 'Market Value', 'Age', 'Goals', 'Assists']]\n",
    "\n",
    "df.head(9)"
   ]
  },
  {
   "cell_type": "markdown",
   "id": "ebf7af3c-900e-4b17-9c30-7ecd97d10bae",
   "metadata": {},
   "source": [
    "### Plotting the Data\n",
    "\n",
    "Here I'm only plotting the age-to-value graph jsut for example\n",
    "In the regression model goals and assists are also a factor"
   ]
  },
  {
   "cell_type": "code",
   "execution_count": 3,
   "id": "ceebe25f-df7f-4ad5-b842-b0ec54f20368",
   "metadata": {},
   "outputs": [
    {
     "data": {
      "image/png": "[encoded data removed]",
      "text/plain": [
       "<Figure size 800x600 with 1 Axes>"
      ]
     },
     "metadata": {},
     "output_type": "display_data"
    }
   ],
   "source": [
    "import matplotlib.ticker as ticker\n",
    "\n",
    "plt.figure(figsize=(8, 6))\n",
    "plt.scatter(df['Age'], df['Market Value'],  color='pink')\n",
    "\n",
    "# Format y-axis to show values in millions with dollar sign\n",
    "plt.gca().yaxis.set_major_formatter(\n",
    "    ticker.FuncFormatter(lambda x, pos: '${:1.1f}M'.format(x/1000000)))\n",
    "\n",
    "plt.xlabel(\"Age\")\n",
    "plt.ylabel(\"Value ($M)\")\n",
    "plt.grid(True)\n",
    "plt.show()"
   ]
  },
  {
   "cell_type": "markdown",
   "id": "cd95f046-8b61-47a3-a521-970f59b6f62b",
   "metadata": {},
   "source": [
    "### Data Splitting (70/30) (train/test)"
   ]
  },
  {
   "cell_type": "code",
   "execution_count": 4,
   "id": "6fa8d414-edb3-44d8-b4c4-f41e355f4cb2",
   "metadata": {},
   "outputs": [],
   "source": [
    "mask = np.random.rand(len(df)) < 0.7\n",
    "train_data = df[mask]\n",
    "test_data = df[~mask]\n"
   ]
  },
  {
   "cell_type": "markdown",
   "id": "939524b7-3547-422a-8343-18249f10a368",
   "metadata": {},
   "source": [
    "### Actual Work"
   ]
  },
  {
   "cell_type": "code",
   "execution_count": 5,
   "id": "8bdb6bc9-6696-4a18-aef5-7e4904ea12d3",
   "metadata": {},
   "outputs": [
    {
     "name": "stdout",
     "output_type": "stream",
     "text": [
      "Coefficients:  [[-492641.30166899 2373494.40618019 3439676.71555746]]\n",
      "Intercept:  [44873870.62925839]\n"
     ]
    }
   ],
   "source": [
    "from sklearn import linear_model\n",
    "\n",
    "regression_model = linear_model.LinearRegression()\n",
    "\n",
    "train_x = np.asanyarray(train_data[['Age','Goals', 'Assists']])\n",
    "train_y = np.asanyarray(train_data[['Market Value']])\n",
    "\n",
    "regression_model.fit(train_x, train_y)\n",
    "\n",
    "print ('Coefficients: ', regression_model.coef_)\n",
    "print ('Intercept: ',regression_model.intercept_)"
   ]
  },
  {
   "cell_type": "code",
   "execution_count": 6,
   "id": "02bf51b8-6fcf-42e5-8881-32de920d005c",
   "metadata": {},
   "outputs": [
    {
     "name": "stdout",
     "output_type": "stream",
     "text": [
      "Residual sum of squares: 433022822452494.50\n",
      "Variance score: 0.12\n"
     ]
    }
   ],
   "source": [
    "test_x = np.asanyarray(test_data[['Age','Goals', 'Assists']])\n",
    "test_y = np.asanyarray(test_data[['Market Value']])\n",
    "\n",
    "test_y_prediction= regression_model.predict(test_x)\n",
    "\n",
    "print(\"Residual sum of squares: %.2f\"\n",
    "      % np.mean((test_y_prediction - test_y) ** 2))\n",
    "\n",
    "print('Variance score: %.2f' % regression_model.score(test_x, test_y))"
   ]
  }
 ],
 "metadata": {
  "kernelspec": {
   "display_name": "base",
   "language": "python",
   "name": "python3"
  },
  "language_info": {
   "codemirror_mode": {
    "name": "ipython",
    "version": 3
   },
   "file_extension": ".py",
   "mimetype": "text/x-python",
   "name": "python",
   "nbconvert_exporter": "python",
   "pygments_lexer": "ipython3",
   "version": "3.13.5"
  }
 },
 "nbformat": 4,
 "nbformat_minor": 5
}
