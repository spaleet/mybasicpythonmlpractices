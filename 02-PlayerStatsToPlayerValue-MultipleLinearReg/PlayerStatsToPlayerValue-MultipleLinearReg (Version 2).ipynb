{
 "cells": [
  {
   "cell_type": "markdown",
   "id": "7918f5b7-499d-4aba-8498-8e7eeca70f6b",
   "metadata": {},
   "source": [
    "# Predicting Player Value based on basic stats"
   ]
  },
  {
   "cell_type": "markdown",
   "id": "a1bee35e-3a58-44f2-90f1-5843ac43669c",
   "metadata": {},
   "source": [
    "## Usual Imports"
   ]
  },
  {
   "cell_type": "code",
   "execution_count": 1,
   "id": "9287261c-5192-4d77-9a96-2d9f8d7fd940",
   "metadata": {},
   "outputs": [],
   "source": [
    "import pandas as pd\n",
    "import numpy as np\n",
    "import matplotlib.pyplot as plt\n",
    "import seaborn as sns"
   ]
  },
  {
   "cell_type": "markdown",
   "id": "013e1134",
   "metadata": {},
   "source": [
    "### Read the Data"
   ]
  },
  {
   "cell_type": "code",
   "execution_count": 2,
   "id": "15baf419-73f2-4167-9830-3eadee7d579b",
   "metadata": {},
   "outputs": [
    {
     "data": {
      "text/html": [
       "<div>\n",
       "<style scoped>\n",
       "    .dataframe tbody tr th:only-of-type {\n",
       "        vertical-align: middle;\n",
       "    }\n",
       "\n",
       "    .dataframe tbody tr th {\n",
       "        vertical-align: top;\n",
       "    }\n",
       "\n",
       "    .dataframe thead th {\n",
       "        text-align: right;\n",
       "    }\n",
       "</style>\n",
       "<table border=\"1\" class=\"dataframe\">\n",
       "  <thead>\n",
       "    <tr style=\"text-align: right;\">\n",
       "      <th></th>\n",
       "      <th>Name</th>\n",
       "      <th>Position</th>\n",
       "      <th>Market Value</th>\n",
       "      <th>Age</th>\n",
       "      <th>Goals</th>\n",
       "      <th>Assists</th>\n",
       "    </tr>\n",
       "  </thead>\n",
       "  <tbody>\n",
       "    <tr>\n",
       "      <th>0</th>\n",
       "      <td>Erling Haaland</td>\n",
       "      <td>Centre-Forward</td>\n",
       "      <td>200000000</td>\n",
       "      <td>24</td>\n",
       "      <td>14</td>\n",
       "      <td>0</td>\n",
       "    </tr>\n",
       "    <tr>\n",
       "      <th>1</th>\n",
       "      <td>Vinicius Junior</td>\n",
       "      <td>Left Winger</td>\n",
       "      <td>200000000</td>\n",
       "      <td>24</td>\n",
       "      <td>5</td>\n",
       "      <td>7</td>\n",
       "    </tr>\n",
       "    <tr>\n",
       "      <th>2</th>\n",
       "      <td>Jude Bellingham</td>\n",
       "      <td>Attacking Midfield</td>\n",
       "      <td>180000000</td>\n",
       "      <td>21</td>\n",
       "      <td>1</td>\n",
       "      <td>2</td>\n",
       "    </tr>\n",
       "    <tr>\n",
       "      <th>3</th>\n",
       "      <td>Kylian Mbappé</td>\n",
       "      <td>Centre-Forward</td>\n",
       "      <td>180000000</td>\n",
       "      <td>25</td>\n",
       "      <td>8</td>\n",
       "      <td>1</td>\n",
       "    </tr>\n",
       "    <tr>\n",
       "      <th>4</th>\n",
       "      <td>Lamine Yamal</td>\n",
       "      <td>Right Winger</td>\n",
       "      <td>150000000</td>\n",
       "      <td>17</td>\n",
       "      <td>5</td>\n",
       "      <td>6</td>\n",
       "    </tr>\n",
       "    <tr>\n",
       "      <th>5</th>\n",
       "      <td>Phil Foden</td>\n",
       "      <td>Right Winger</td>\n",
       "      <td>150000000</td>\n",
       "      <td>24</td>\n",
       "      <td>1</td>\n",
       "      <td>2</td>\n",
       "    </tr>\n",
       "    <tr>\n",
       "      <th>6</th>\n",
       "      <td>Bukayo Saka</td>\n",
       "      <td>Right Winger</td>\n",
       "      <td>140000000</td>\n",
       "      <td>23</td>\n",
       "      <td>3</td>\n",
       "      <td>7</td>\n",
       "    </tr>\n",
       "    <tr>\n",
       "      <th>7</th>\n",
       "      <td>Florian Wirtz</td>\n",
       "      <td>Attacking Midfield</td>\n",
       "      <td>130000000</td>\n",
       "      <td>21</td>\n",
       "      <td>7</td>\n",
       "      <td>3</td>\n",
       "    </tr>\n",
       "    <tr>\n",
       "      <th>8</th>\n",
       "      <td>Jamal Musiala</td>\n",
       "      <td>Attacking Midfield</td>\n",
       "      <td>130000000</td>\n",
       "      <td>21</td>\n",
       "      <td>4</td>\n",
       "      <td>6</td>\n",
       "    </tr>\n",
       "  </tbody>\n",
       "</table>\n",
       "</div>"
      ],
      "text/plain": [
       "              Name            Position  Market Value  Age  Goals  Assists\n",
       "0   Erling Haaland      Centre-Forward     200000000   24     14        0\n",
       "1  Vinicius Junior         Left Winger     200000000   24      5        7\n",
       "2  Jude Bellingham  Attacking Midfield     180000000   21      1        2\n",
       "3    Kylian Mbappé      Centre-Forward     180000000   25      8        1\n",
       "4     Lamine Yamal        Right Winger     150000000   17      5        6\n",
       "5       Phil Foden        Right Winger     150000000   24      1        2\n",
       "6      Bukayo Saka        Right Winger     140000000   23      3        7\n",
       "7    Florian Wirtz  Attacking Midfield     130000000   21      7        3\n",
       "8    Jamal Musiala  Attacking Midfield     130000000   21      4        6"
      ]
     },
     "execution_count": 2,
     "metadata": {},
     "output_type": "execute_result"
    }
   ],
   "source": [
    "player_dataframe = pd.read_csv(\"playerdata.csv\")\n",
    "player_dataframe = player_dataframe[['Name', 'Position', 'Market Value', 'Age', 'Goals', 'Assists']]\n",
    "\n",
    "player_dataframe.head(9)"
   ]
  },
  {
   "cell_type": "code",
   "execution_count": 3,
   "id": "515b1552-8134-4368-b353-b5e43a5da1f1",
   "metadata": {},
   "outputs": [
    {
     "data": {
      "text/html": [
       "<div>\n",
       "<style scoped>\n",
       "    .dataframe tbody tr th:only-of-type {\n",
       "        vertical-align: middle;\n",
       "    }\n",
       "\n",
       "    .dataframe tbody tr th {\n",
       "        vertical-align: top;\n",
       "    }\n",
       "\n",
       "    .dataframe thead th {\n",
       "        text-align: right;\n",
       "    }\n",
       "</style>\n",
       "<table border=\"1\" class=\"dataframe\">\n",
       "  <thead>\n",
       "    <tr style=\"text-align: right;\">\n",
       "      <th></th>\n",
       "      <th>Name</th>\n",
       "      <th>Position</th>\n",
       "      <th>Market Value</th>\n",
       "      <th>Age</th>\n",
       "      <th>Goals</th>\n",
       "      <th>Assists</th>\n",
       "    </tr>\n",
       "  </thead>\n",
       "  <tbody>\n",
       "    <tr>\n",
       "      <th>0</th>\n",
       "      <td>Erling Haaland</td>\n",
       "      <td>Centre-Forward</td>\n",
       "      <td>200000000</td>\n",
       "      <td>24</td>\n",
       "      <td>14</td>\n",
       "      <td>0</td>\n",
       "    </tr>\n",
       "    <tr>\n",
       "      <th>1</th>\n",
       "      <td>Vinicius Junior</td>\n",
       "      <td>Left Winger</td>\n",
       "      <td>200000000</td>\n",
       "      <td>24</td>\n",
       "      <td>5</td>\n",
       "      <td>7</td>\n",
       "    </tr>\n",
       "    <tr>\n",
       "      <th>2</th>\n",
       "      <td>Kylian Mbappé</td>\n",
       "      <td>Centre-Forward</td>\n",
       "      <td>180000000</td>\n",
       "      <td>25</td>\n",
       "      <td>8</td>\n",
       "      <td>1</td>\n",
       "    </tr>\n",
       "    <tr>\n",
       "      <th>3</th>\n",
       "      <td>Lamine Yamal</td>\n",
       "      <td>Right Winger</td>\n",
       "      <td>150000000</td>\n",
       "      <td>17</td>\n",
       "      <td>5</td>\n",
       "      <td>6</td>\n",
       "    </tr>\n",
       "    <tr>\n",
       "      <th>4</th>\n",
       "      <td>Phil Foden</td>\n",
       "      <td>Right Winger</td>\n",
       "      <td>150000000</td>\n",
       "      <td>24</td>\n",
       "      <td>1</td>\n",
       "      <td>2</td>\n",
       "    </tr>\n",
       "    <tr>\n",
       "      <th>5</th>\n",
       "      <td>Bukayo Saka</td>\n",
       "      <td>Right Winger</td>\n",
       "      <td>140000000</td>\n",
       "      <td>23</td>\n",
       "      <td>3</td>\n",
       "      <td>7</td>\n",
       "    </tr>\n",
       "    <tr>\n",
       "      <th>6</th>\n",
       "      <td>Rodrygo</td>\n",
       "      <td>Right Winger</td>\n",
       "      <td>110000000</td>\n",
       "      <td>23</td>\n",
       "      <td>3</td>\n",
       "      <td>2</td>\n",
       "    </tr>\n",
       "    <tr>\n",
       "      <th>7</th>\n",
       "      <td>Lautaro Martínez</td>\n",
       "      <td>Centre-Forward</td>\n",
       "      <td>110000000</td>\n",
       "      <td>27</td>\n",
       "      <td>3</td>\n",
       "      <td>3</td>\n",
       "    </tr>\n",
       "    <tr>\n",
       "      <th>8</th>\n",
       "      <td>Harry Kane</td>\n",
       "      <td>Centre-Forward</td>\n",
       "      <td>100000000</td>\n",
       "      <td>31</td>\n",
       "      <td>15</td>\n",
       "      <td>6</td>\n",
       "    </tr>\n",
       "  </tbody>\n",
       "</table>\n",
       "</div>"
      ],
      "text/plain": [
       "               Name        Position  Market Value  Age  Goals  Assists\n",
       "0    Erling Haaland  Centre-Forward     200000000   24     14        0\n",
       "1   Vinicius Junior     Left Winger     200000000   24      5        7\n",
       "2     Kylian Mbappé  Centre-Forward     180000000   25      8        1\n",
       "3      Lamine Yamal    Right Winger     150000000   17      5        6\n",
       "4        Phil Foden    Right Winger     150000000   24      1        2\n",
       "5       Bukayo Saka    Right Winger     140000000   23      3        7\n",
       "6           Rodrygo    Right Winger     110000000   23      3        2\n",
       "7  Lautaro Martínez  Centre-Forward     110000000   27      3        3\n",
       "8        Harry Kane  Centre-Forward     100000000   31     15        6"
      ]
     },
     "execution_count": 3,
     "metadata": {},
     "output_type": "execute_result"
    }
   ],
   "source": [
    "attacking_positions = ['Right Winger', 'Left Winger', 'Centre-Forward']\n",
    "\n",
    "# Filter the DataFrame\n",
    "df = player_dataframe[player_dataframe['Position'].isin(attacking_positions)].copy()\n",
    "\n",
    "# To reset the indexes\n",
    "df.reset_index(drop=True, inplace=True)\n",
    "\n",
    "df.head(9)"
   ]
  },
  {
   "cell_type": "code",
   "execution_count": 4,
   "id": "cf563813-02d2-4e6d-a4c8-ffa062a84373",
   "metadata": {},
   "outputs": [
    {
     "data": {
      "text/html": [
       "<div>\n",
       "<style scoped>\n",
       "    .dataframe tbody tr th:only-of-type {\n",
       "        vertical-align: middle;\n",
       "    }\n",
       "\n",
       "    .dataframe tbody tr th {\n",
       "        vertical-align: top;\n",
       "    }\n",
       "\n",
       "    .dataframe thead th {\n",
       "        text-align: right;\n",
       "    }\n",
       "</style>\n",
       "<table border=\"1\" class=\"dataframe\">\n",
       "  <thead>\n",
       "    <tr style=\"text-align: right;\">\n",
       "      <th></th>\n",
       "      <th>Name</th>\n",
       "      <th>Position</th>\n",
       "      <th>Market Value</th>\n",
       "      <th>Age</th>\n",
       "      <th>Goals</th>\n",
       "      <th>Assists</th>\n",
       "    </tr>\n",
       "  </thead>\n",
       "  <tbody>\n",
       "    <tr>\n",
       "      <th>0</th>\n",
       "      <td>Erling Haaland</td>\n",
       "      <td>Centre Forward</td>\n",
       "      <td>200000000</td>\n",
       "      <td>24</td>\n",
       "      <td>14</td>\n",
       "      <td>0</td>\n",
       "    </tr>\n",
       "    <tr>\n",
       "      <th>1</th>\n",
       "      <td>Vinicius Junior</td>\n",
       "      <td>Left Winger</td>\n",
       "      <td>200000000</td>\n",
       "      <td>24</td>\n",
       "      <td>5</td>\n",
       "      <td>7</td>\n",
       "    </tr>\n",
       "    <tr>\n",
       "      <th>2</th>\n",
       "      <td>Kylian Mbappé</td>\n",
       "      <td>Centre Forward</td>\n",
       "      <td>180000000</td>\n",
       "      <td>25</td>\n",
       "      <td>8</td>\n",
       "      <td>1</td>\n",
       "    </tr>\n",
       "    <tr>\n",
       "      <th>3</th>\n",
       "      <td>Lamine Yamal</td>\n",
       "      <td>Right Winger</td>\n",
       "      <td>150000000</td>\n",
       "      <td>17</td>\n",
       "      <td>5</td>\n",
       "      <td>6</td>\n",
       "    </tr>\n",
       "    <tr>\n",
       "      <th>4</th>\n",
       "      <td>Phil Foden</td>\n",
       "      <td>Right Winger</td>\n",
       "      <td>150000000</td>\n",
       "      <td>24</td>\n",
       "      <td>1</td>\n",
       "      <td>2</td>\n",
       "    </tr>\n",
       "    <tr>\n",
       "      <th>5</th>\n",
       "      <td>Bukayo Saka</td>\n",
       "      <td>Right Winger</td>\n",
       "      <td>140000000</td>\n",
       "      <td>23</td>\n",
       "      <td>3</td>\n",
       "      <td>7</td>\n",
       "    </tr>\n",
       "    <tr>\n",
       "      <th>6</th>\n",
       "      <td>Rodrygo</td>\n",
       "      <td>Right Winger</td>\n",
       "      <td>110000000</td>\n",
       "      <td>23</td>\n",
       "      <td>3</td>\n",
       "      <td>2</td>\n",
       "    </tr>\n",
       "    <tr>\n",
       "      <th>7</th>\n",
       "      <td>Lautaro Martínez</td>\n",
       "      <td>Centre Forward</td>\n",
       "      <td>110000000</td>\n",
       "      <td>27</td>\n",
       "      <td>3</td>\n",
       "      <td>3</td>\n",
       "    </tr>\n",
       "    <tr>\n",
       "      <th>8</th>\n",
       "      <td>Harry Kane</td>\n",
       "      <td>Centre Forward</td>\n",
       "      <td>100000000</td>\n",
       "      <td>31</td>\n",
       "      <td>15</td>\n",
       "      <td>6</td>\n",
       "    </tr>\n",
       "  </tbody>\n",
       "</table>\n",
       "</div>"
      ],
      "text/plain": [
       "               Name        Position  Market Value  Age  Goals  Assists\n",
       "0    Erling Haaland  Centre Forward     200000000   24     14        0\n",
       "1   Vinicius Junior     Left Winger     200000000   24      5        7\n",
       "2     Kylian Mbappé  Centre Forward     180000000   25      8        1\n",
       "3      Lamine Yamal    Right Winger     150000000   17      5        6\n",
       "4        Phil Foden    Right Winger     150000000   24      1        2\n",
       "5       Bukayo Saka    Right Winger     140000000   23      3        7\n",
       "6           Rodrygo    Right Winger     110000000   23      3        2\n",
       "7  Lautaro Martínez  Centre Forward     110000000   27      3        3\n",
       "8        Harry Kane  Centre Forward     100000000   31     15        6"
      ]
     },
     "execution_count": 4,
     "metadata": {},
     "output_type": "execute_result"
    }
   ],
   "source": [
    "df['Position'] = df['Position'].str.replace('Centre-Forward', 'Centre Forward')\n",
    "\n",
    "df.head(9)"
   ]
  },
  {
   "cell_type": "markdown",
   "id": "35de408d-60b5-4746-b255-98ff030a32bf",
   "metadata": {},
   "source": [
    "\n",
    "### Plotting the Data"
   ]
  },
  {
   "cell_type": "code",
   "execution_count": 5,
   "id": "770d6401-eb99-4edc-a560-ec572afabe0e",
   "metadata": {},
   "outputs": [
    {
     "data": {
      "image/png": "[encoded data removed]",
      "text/plain": [
       "<Figure size 1000x600 with 1 Axes>"
      ]
     },
     "metadata": {},
     "output_type": "display_data"
    }
   ],
   "source": [
    "from matplotlib.ticker import FuncFormatter\n",
    "\n",
    "plt.figure(figsize=(10, 6))\n",
    "ax = sns.scatterplot(data=df, x='Age', y='Market Value', hue='Position')\n",
    "\n",
    "# Format y-axis labels in millions\n",
    "ax.yaxis.set_major_formatter(\n",
    "    FuncFormatter(lambda x, pos: f'{x/1_000_000:.0f}M')\n",
    ")\n",
    "plt.ylabel('Market Value (€ Millions)')\n",
    "plt.show()"
   ]
  },
  {
   "cell_type": "markdown",
   "id": "b9c8a583-b8ad-4b1c-bbab-1df94693877c",
   "metadata": {},
   "source": [
    "### Creating a HotEncoder for Player Positions\n",
    "\n",
    "`Position` column contains text values ('Left Winger', 'Right Winger', 'Centre Forward').\n",
    "Linear regression can't work directly with text and it needs numbers. \n",
    "\n",
    "One-hot encoding converts these categories into binary (0/1) columns."
   ]
  },
  {
   "cell_type": "code",
   "execution_count": 6,
   "id": "bf8fc56d-6a1e-4baf-a19b-177ac78775eb",
   "metadata": {},
   "outputs": [],
   "source": [
    "from sklearn.preprocessing import OneHotEncoder\n",
    "from sklearn.compose import ColumnTransformer\n",
    "\n",
    "# One-hot encode the categorical 'Position' column\n",
    "preprocessor = ColumnTransformer(\n",
    "    transformers=[\n",
    "        ('cat', OneHotEncoder(), ['Position'])\n",
    "    ],\n",
    "    remainder='passthrough'\n",
    ")"
   ]
  },
  {
   "cell_type": "markdown",
   "id": "4c2f05a6-44f2-4b10-a5be-cf51a0441f80",
   "metadata": {},
   "source": [
    "### Prepping the Data\n",
    "\n",
    "Convert Position into machine-readable stuff"
   ]
  },
  {
   "cell_type": "code",
   "execution_count": 7,
   "id": "f65496df-2615-4096-b153-b458344edc73",
   "metadata": {},
   "outputs": [],
   "source": [
    "df_x = df[['Position', 'Age', 'Goals', 'Assists']]\n",
    "df_y = df['Market Value']\n",
    "\n",
    "processed_x = preprocessor.fit_transform(df_x)\n",
    "\n",
    "feature_names = preprocessor.named_transformers_['cat'].get_feature_names_out(['Position'])\n",
    "remaining_features = ['Age', 'Goals', 'Assists']\n",
    "all_features = list(feature_names) + remaining_features"
   ]
  },
  {
   "cell_type": "markdown",
   "id": "db4382b6-e70b-4f2b-aba4-bd02b4e63025",
   "metadata": {},
   "source": [
    "### Data Splitting (70/30) (train/test)"
   ]
  },
  {
   "cell_type": "code",
   "execution_count": 8,
   "id": "8f8ac59b-9e8b-4f49-8844-6fa82eb705e4",
   "metadata": {},
   "outputs": [],
   "source": [
    "from sklearn.model_selection import train_test_split\n",
    "\n",
    "train_x, test_x, train_y, test_y = train_test_split(\n",
    "    processed_x, df_y, test_size=0.2, random_state=42\n",
    ")"
   ]
  },
  {
   "cell_type": "markdown",
   "id": "ff2e0e7c-98d8-4057-b7c9-890f5501e60a",
   "metadata": {},
   "source": [
    "### Actual Work"
   ]
  },
  {
   "cell_type": "code",
   "execution_count": 9,
   "id": "686b6594-c4fc-4eec-a5cd-8a48aa14e1ae",
   "metadata": {},
   "outputs": [
    {
     "name": "stdout",
     "output_type": "stream",
     "text": [
      "Regression Success!\n",
      "\n",
      "Feature Coefficients:\n",
      "                   Feature   Coefficient\n",
      "0  Position_Centre Forward -3.560901e+06\n",
      "1     Position_Left Winger  2.116016e+06\n",
      "2    Position_Right Winger  1.444885e+06\n",
      "3                      Age -8.980150e+05\n",
      "4                    Goals  2.729762e+06\n",
      "5                  Assists  4.164630e+06\n",
      "\n",
      "Intercept: 51450462.72\n"
     ]
    }
   ],
   "source": [
    "from sklearn.linear_model import LinearRegression\n",
    "from sklearn.metrics import mean_squared_error, r2_score\n",
    "\n",
    "regression_model = LinearRegression()\n",
    "regression_model.fit(train_x, train_y)\n",
    "\n",
    "print(\"Regression Success!\")\n",
    "\n",
    "coefficients = pd.DataFrame({\n",
    "    'Feature': all_features,\n",
    "    'Coefficient': regression_model.coef_\n",
    "})\n",
    "print(\"\\nFeature Coefficients:\")\n",
    "print(coefficients)\n",
    "print(f\"\\nIntercept: {regression_model.intercept_:.2f}\")"
   ]
  },
  {
   "cell_type": "markdown",
   "id": "cbfe63d3-7908-4f17-8f14-40d36cf9f0c9",
   "metadata": {},
   "source": [
    "### Making Predictions and Measuring Metrics"
   ]
  },
  {
   "cell_type": "code",
   "execution_count": 10,
   "id": "5283da8f-1b54-4c5e-9407-ae9f02804673",
   "metadata": {},
   "outputs": [
    {
     "name": "stdout",
     "output_type": "stream",
     "text": [
      "Root Mean Squared Error: 16171657.67\n",
      "R2-score:  0.16\n"
     ]
    }
   ],
   "source": [
    "# Make predictions\n",
    "test_y_prediction = regression_model.predict(test_x)\n",
    "\n",
    "# Calculate metrics\n",
    "mse = mean_squared_error(test_y, test_y_prediction)\n",
    "rmse = np.sqrt(mse)\n",
    "r2 = round(r2_score(test_y, test_y_prediction), 2)\n",
    "\n",
    "print(f\"Root Mean Squared Error: {rmse:.2f}\")\n",
    "print(\"R2-score: \", r2)"
   ]
  },
  {
   "cell_type": "code",
   "execution_count": 11,
   "id": "682bdffc-1754-40f0-b633-7d7f8aa2c40c",
   "metadata": {},
   "outputs": [
    {
     "name": "stdout",
     "output_type": "stream",
     "text": [
      "\n",
      "Predicted Market Value: 35606178.78 million\n"
     ]
    }
   ],
   "source": [
    "new_player = pd.DataFrame({\n",
    "    'Position': ['Left Winger'],\n",
    "    'Age': [20],\n",
    "    'Goals': [0],\n",
    "    'Assists': [0]\n",
    "})\n",
    "\n",
    "new_player_processed = preprocessor.transform(new_player)\n",
    "\n",
    "# Predict market value\n",
    "predicted_value = regression_model.predict(new_player_processed)\n",
    "print(f\"\\nPredicted Market Value: {predicted_value[0]:.2f} million\")\n",
    "\n",
    "## TODO: if predicted value is negative: Print worthless"
   ]
  }
 ],
 "metadata": {
  "kernelspec": {
   "display_name": "base",
   "language": "python",
   "name": "python3"
  },
  "language_info": {
   "codemirror_mode": {
    "name": "ipython",
    "version": 3
   },
   "file_extension": ".py",
   "mimetype": "text/x-python",
   "name": "python",
   "nbconvert_exporter": "python",
   "pygments_lexer": "ipython3",
   "version": "3.13.5"
  }
 },
 "nbformat": 4,
 "nbformat_minor": 5
}
