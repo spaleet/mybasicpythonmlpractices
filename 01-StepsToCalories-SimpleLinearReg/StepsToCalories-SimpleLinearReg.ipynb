{
 "cells": [
  {
   "cell_type": "markdown",
   "id": "5fbe047f-7617-4922-87eb-57f3ce00c1ad",
   "metadata": {},
   "source": [
    "# A Simple Linear Regression"
   ]
  },
  {
   "cell_type": "markdown",
   "id": "2f3fed09-ac9c-48df-81dd-fc80a7892a7c",
   "metadata": {},
   "source": [
    "### Importing the Usual Suspects\n"
   ]
  },
  {
   "cell_type": "code",
   "execution_count": 1,
   "id": "9287261c-5192-4d77-9a96-2d9f8d7fd940",
   "metadata": {},
   "outputs": [],
   "source": [
    "import pandas as pd\n",
    "import numpy as np\n",
    "import matplotlib.pyplot as plt"
   ]
  },
  {
   "cell_type": "markdown",
   "id": "9da2d198-754d-422c-b1d3-1474a668fbac",
   "metadata": {},
   "source": [
    "### Reading the Data"
   ]
  },
  {
   "cell_type": "code",
   "execution_count": 2,
   "id": "56f37aed-9920-43d3-bd41-ab10be1b82bf",
   "metadata": {},
   "outputs": [
    {
     "data": {
      "text/html": [
       "<div>\n",
       "<style scoped>\n",
       "    .dataframe tbody tr th:only-of-type {\n",
       "        vertical-align: middle;\n",
       "    }\n",
       "\n",
       "    .dataframe tbody tr th {\n",
       "        vertical-align: top;\n",
       "    }\n",
       "\n",
       "    .dataframe thead th {\n",
       "        text-align: right;\n",
       "    }\n",
       "</style>\n",
       "<table border=\"1\" class=\"dataframe\">\n",
       "  <thead>\n",
       "    <tr style=\"text-align: right;\">\n",
       "      <th></th>\n",
       "      <th>Date</th>\n",
       "      <th>Step Count</th>\n",
       "      <th>Distance Travelled</th>\n",
       "      <th>Active Time</th>\n",
       "      <th>Flights Climbed</th>\n",
       "      <th>Goal</th>\n",
       "      <th>Percentage of Goal Completed</th>\n",
       "      <th>Calories</th>\n",
       "    </tr>\n",
       "  </thead>\n",
       "  <tbody>\n",
       "    <tr>\n",
       "      <th>0</th>\n",
       "      <td>3/17/2021</td>\n",
       "      <td>1500</td>\n",
       "      <td>1.02 km</td>\n",
       "      <td>23:14 min</td>\n",
       "      <td>3</td>\n",
       "      <td>10000</td>\n",
       "      <td>15%</td>\n",
       "      <td>64</td>\n",
       "    </tr>\n",
       "    <tr>\n",
       "      <th>1</th>\n",
       "      <td>3/18/2021</td>\n",
       "      <td>3165</td>\n",
       "      <td>2.23 km</td>\n",
       "      <td>44:56 min</td>\n",
       "      <td>2</td>\n",
       "      <td>10000</td>\n",
       "      <td>32%</td>\n",
       "      <td>134</td>\n",
       "    </tr>\n",
       "    <tr>\n",
       "      <th>2</th>\n",
       "      <td>3/19/2021</td>\n",
       "      <td>1494</td>\n",
       "      <td>1.08 km</td>\n",
       "      <td>24:51 min</td>\n",
       "      <td>0</td>\n",
       "      <td>10000</td>\n",
       "      <td>15%</td>\n",
       "      <td>68</td>\n",
       "    </tr>\n",
       "    <tr>\n",
       "      <th>3</th>\n",
       "      <td>3/20/2021</td>\n",
       "      <td>1808</td>\n",
       "      <td>1.27 km</td>\n",
       "      <td>30:04 min</td>\n",
       "      <td>1</td>\n",
       "      <td>10000</td>\n",
       "      <td>18%</td>\n",
       "      <td>81</td>\n",
       "    </tr>\n",
       "    <tr>\n",
       "      <th>4</th>\n",
       "      <td>3/21/2021</td>\n",
       "      <td>2667</td>\n",
       "      <td>1.78 km</td>\n",
       "      <td>30:57 min</td>\n",
       "      <td>3</td>\n",
       "      <td>10000</td>\n",
       "      <td>27%</td>\n",
       "      <td>103</td>\n",
       "    </tr>\n",
       "    <tr>\n",
       "      <th>5</th>\n",
       "      <td>3/22/2021</td>\n",
       "      <td>2368</td>\n",
       "      <td>1.69 km</td>\n",
       "      <td>37:25 min</td>\n",
       "      <td>1</td>\n",
       "      <td>10000</td>\n",
       "      <td>24%</td>\n",
       "      <td>105</td>\n",
       "    </tr>\n",
       "    <tr>\n",
       "      <th>6</th>\n",
       "      <td>3/23/2021</td>\n",
       "      <td>3595</td>\n",
       "      <td>2.68 km</td>\n",
       "      <td>54:10 min</td>\n",
       "      <td>2</td>\n",
       "      <td>10000</td>\n",
       "      <td>36%</td>\n",
       "      <td>161</td>\n",
       "    </tr>\n",
       "    <tr>\n",
       "      <th>7</th>\n",
       "      <td>3/24/2021</td>\n",
       "      <td>779</td>\n",
       "      <td>0.58 km</td>\n",
       "      <td>13:08 min</td>\n",
       "      <td>2</td>\n",
       "      <td>10000</td>\n",
       "      <td>8%</td>\n",
       "      <td>36</td>\n",
       "    </tr>\n",
       "    <tr>\n",
       "      <th>8</th>\n",
       "      <td>3/25/2021</td>\n",
       "      <td>2566</td>\n",
       "      <td>1.87 km</td>\n",
       "      <td>38:38 min</td>\n",
       "      <td>1</td>\n",
       "      <td>10000</td>\n",
       "      <td>26%</td>\n",
       "      <td>113</td>\n",
       "    </tr>\n",
       "  </tbody>\n",
       "</table>\n",
       "</div>"
      ],
      "text/plain": [
       "        Date  Step Count Distance Travelled Active Time  Flights Climbed  \\\n",
       "0  3/17/2021        1500            1.02 km   23:14 min                3   \n",
       "1  3/18/2021        3165            2.23 km   44:56 min                2   \n",
       "2  3/19/2021        1494            1.08 km   24:51 min                0   \n",
       "3  3/20/2021        1808            1.27 km   30:04 min                1   \n",
       "4  3/21/2021        2667            1.78 km   30:57 min                3   \n",
       "5  3/22/2021        2368            1.69 km   37:25 min                1   \n",
       "6  3/23/2021        3595            2.68 km   54:10 min                2   \n",
       "7  3/24/2021         779            0.58 km   13:08 min                2   \n",
       "8  3/25/2021        2566            1.87 km   38:38 min                1   \n",
       "\n",
       "    Goal Percentage of Goal Completed  Calories  \n",
       "0  10000                          15%        64  \n",
       "1  10000                          32%       134  \n",
       "2  10000                          15%        68  \n",
       "3  10000                          18%        81  \n",
       "4  10000                          27%       103  \n",
       "5  10000                          24%       105  \n",
       "6  10000                          36%       161  \n",
       "7  10000                           8%        36  \n",
       "8  10000                          26%       113  "
      ]
     },
     "execution_count": 2,
     "metadata": {},
     "output_type": "execute_result"
    }
   ],
   "source": [
    "df = pd.read_csv(\"data.csv\")\n",
    "\n",
    "df.head(9)"
   ]
  },
  {
   "cell_type": "markdown",
   "id": "13125a06-f580-44bd-8b32-8f7f5b9e4917",
   "metadata": {},
   "source": [
    "### Creating the DataFrame"
   ]
  },
  {
   "cell_type": "code",
   "execution_count": 3,
   "id": "85507fa8-7db7-4e57-a6b8-3071d6515800",
   "metadata": {},
   "outputs": [
    {
     "data": {
      "text/html": [
       "<div>\n",
       "<style scoped>\n",
       "    .dataframe tbody tr th:only-of-type {\n",
       "        vertical-align: middle;\n",
       "    }\n",
       "\n",
       "    .dataframe tbody tr th {\n",
       "        vertical-align: top;\n",
       "    }\n",
       "\n",
       "    .dataframe thead th {\n",
       "        text-align: right;\n",
       "    }\n",
       "</style>\n",
       "<table border=\"1\" class=\"dataframe\">\n",
       "  <thead>\n",
       "    <tr style=\"text-align: right;\">\n",
       "      <th></th>\n",
       "      <th>Step Count</th>\n",
       "      <th>Calories</th>\n",
       "    </tr>\n",
       "  </thead>\n",
       "  <tbody>\n",
       "    <tr>\n",
       "      <th>0</th>\n",
       "      <td>1500</td>\n",
       "      <td>64</td>\n",
       "    </tr>\n",
       "    <tr>\n",
       "      <th>1</th>\n",
       "      <td>3165</td>\n",
       "      <td>134</td>\n",
       "    </tr>\n",
       "    <tr>\n",
       "      <th>2</th>\n",
       "      <td>1494</td>\n",
       "      <td>68</td>\n",
       "    </tr>\n",
       "    <tr>\n",
       "      <th>3</th>\n",
       "      <td>1808</td>\n",
       "      <td>81</td>\n",
       "    </tr>\n",
       "    <tr>\n",
       "      <th>4</th>\n",
       "      <td>2667</td>\n",
       "      <td>103</td>\n",
       "    </tr>\n",
       "    <tr>\n",
       "      <th>5</th>\n",
       "      <td>2368</td>\n",
       "      <td>105</td>\n",
       "    </tr>\n",
       "    <tr>\n",
       "      <th>6</th>\n",
       "      <td>3595</td>\n",
       "      <td>161</td>\n",
       "    </tr>\n",
       "    <tr>\n",
       "      <th>7</th>\n",
       "      <td>779</td>\n",
       "      <td>36</td>\n",
       "    </tr>\n",
       "    <tr>\n",
       "      <th>8</th>\n",
       "      <td>2566</td>\n",
       "      <td>113</td>\n",
       "    </tr>\n",
       "  </tbody>\n",
       "</table>\n",
       "</div>"
      ],
      "text/plain": [
       "   Step Count  Calories\n",
       "0        1500        64\n",
       "1        3165       134\n",
       "2        1494        68\n",
       "3        1808        81\n",
       "4        2667       103\n",
       "5        2368       105\n",
       "6        3595       161\n",
       "7         779        36\n",
       "8        2566       113"
      ]
     },
     "execution_count": 3,
     "metadata": {},
     "output_type": "execute_result"
    }
   ],
   "source": [
    "cdf = df[['Step Count','Calories']]\n",
    "\n",
    "cdf.head(9)"
   ]
  },
  {
   "cell_type": "markdown",
   "id": "ebf7af3c-900e-4b17-9c30-7ecd97d10bae",
   "metadata": {},
   "source": [
    "### Plotting the Data"
   ]
  },
  {
   "cell_type": "code",
   "execution_count": 4,
   "id": "ceebe25f-df7f-4ad5-b842-b0ec54f20368",
   "metadata": {},
   "outputs": [
    {
     "data": {
      "image/png": "[encoded data removed]",
      "text/plain": [
       "<Figure size 640x480 with 1 Axes>"
      ]
     },
     "metadata": {},
     "output_type": "display_data"
    }
   ],
   "source": [
    "plt.scatter(cdf['Step Count'], cdf['Calories'],  color='pink')\n",
    "plt.xlabel(\"Step Count\")\n",
    "plt.ylabel(\"Calories\")\n",
    "plt.show()"
   ]
  },
  {
   "cell_type": "markdown",
   "id": "cd95f046-8b61-47a3-a521-970f59b6f62b",
   "metadata": {},
   "source": [
    "### Data Splitting (70/30) (train/test)"
   ]
  },
  {
   "cell_type": "code",
   "execution_count": 5,
   "id": "6fa8d414-edb3-44d8-b4c4-f41e355f4cb2",
   "metadata": {},
   "outputs": [],
   "source": [
    "mask = np.random.rand(len(df)) < 0.7\n",
    "train_data = cdf[mask]\n",
    "test_data = cdf[~mask]"
   ]
  },
  {
   "cell_type": "markdown",
   "id": "d79f375e",
   "metadata": {},
   "source": [
    "### Actual Work"
   ]
  },
  {
   "cell_type": "code",
   "execution_count": 6,
   "id": "27bedaae-8ab3-48c4-86ed-1642ef243cd7",
   "metadata": {},
   "outputs": [
    {
     "name": "stdout",
     "output_type": "stream",
     "text": [
      "Coefficients:  [[0.04276029]]\n",
      "Intercept:  [8.18832044]\n"
     ]
    }
   ],
   "source": [
    "from sklearn import linear_model\n",
    "\n",
    "regression_model = linear_model.LinearRegression()\n",
    "\n",
    "train_x = np.asanyarray(train_data[['Step Count']])\n",
    "train_y = np.asanyarray(train_data[['Calories']])\n",
    "\n",
    "regression_model.fit(train_x, train_y)\n",
    "\n",
    "print ('Coefficients: ', regression_model.coef_)\n",
    "print ('Intercept: ',regression_model.intercept_)"
   ]
  },
  {
   "cell_type": "code",
   "execution_count": 7,
   "id": "8bdb6bc9-6696-4a18-aef5-7e4904ea12d3",
   "metadata": {},
   "outputs": [
    {
     "data": {
      "image/png": "[encoded data removed]",
      "text/plain": [
       "<Figure size 640x480 with 1 Axes>"
      ]
     },
     "metadata": {},
     "output_type": "display_data"
    }
   ],
   "source": [
    "plt.scatter(train_data['Step Count'], train_data['Calories'],  color='pink')\n",
    "plt.plot(train_x, regression_model.coef_[0][0]*train_x + regression_model.intercept_[0])\n",
    "plt.show()"
   ]
  },
  {
   "cell_type": "markdown",
   "id": "f84f083d",
   "metadata": {},
   "source": [
    "### Calculationg the R2 Score"
   ]
  },
  {
   "cell_type": "code",
   "execution_count": 8,
   "id": "02bf51b8-6fcf-42e5-8881-32de920d005c",
   "metadata": {},
   "outputs": [
    {
     "name": "stdout",
     "output_type": "stream",
     "text": [
      "R2-score:  0.98\n"
     ]
    }
   ],
   "source": [
    "from sklearn.metrics import r2_score\n",
    "\n",
    "test_x = np.asanyarray(test_data[['Step Count']])\n",
    "test_y = np.asanyarray(test_data[['Calories']])\n",
    "test_y_prediction = regression_model.predict(test_x)\n",
    "\n",
    "r2 = round(r2_score(test_y, test_y_prediction), 2)\n",
    "\n",
    "print(\"R2-score: \", r2)"
   ]
  },
  {
   "cell_type": "markdown",
   "id": "0e56d1cc-e688-4c63-bfa5-afa36630a517",
   "metadata": {},
   "source": [
    "### Predict a single step to its approximate calorie"
   ]
  },
  {
   "cell_type": "code",
   "execution_count": 9,
   "id": "76a9978a-f335-4cc6-9297-5c37a3847989",
   "metadata": {},
   "outputs": [
    {
     "name": "stdout",
     "output_type": "stream",
     "text": [
      "Predicted value: 38\n"
     ]
    }
   ],
   "source": [
    "step_input = np.array([[700]])\n",
    "prediction_calorie = regression_model.predict(step_input).item()\n",
    "\n",
    "\n",
    "print(f\"Predicted value: {round(prediction_calorie)}\")"
   ]
  }
 ],
 "metadata": {
  "kernelspec": {
   "display_name": "base",
   "language": "python",
   "name": "python3"
  },
  "language_info": {
   "codemirror_mode": {
    "name": "ipython",
    "version": 3
   },
   "file_extension": ".py",
   "mimetype": "text/x-python",
   "name": "python",
   "nbconvert_exporter": "python",
   "pygments_lexer": "ipython3",
   "version": "3.13.5"
  }
 },
 "nbformat": 4,
 "nbformat_minor": 5
}
